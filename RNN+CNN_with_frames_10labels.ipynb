{
  "nbformat": 4,
  "nbformat_minor": 0,
  "metadata": {
    "colab": {
      "provenance": [],
      "gpuType": "T4"
    },
    "kernelspec": {
      "name": "python3",
      "display_name": "Python 3"
    },
    "language_info": {
      "name": "python"
    },
    "accelerator": "GPU"
  },
  "cells": [
    {
      "cell_type": "code",
      "source": [
        "from google.colab import drive\n",
        "drive.mount('/content/drive')"
      ],
      "metadata": {
        "colab": {
          "base_uri": "https://localhost:8080/"
        },
        "id": "sMQxs5xmaogB",
        "outputId": "cac87836-35db-434e-d697-434e1f8d597e"
      },
      "execution_count": null,
      "outputs": [
        {
          "output_type": "stream",
          "name": "stdout",
          "text": [
            "Mounted at /content/drive\n"
          ]
        }
      ]
    },
    {
      "cell_type": "markdown",
      "source": [
        "## Model Architecture"
      ],
      "metadata": {
        "id": "j5Bs2bq86-S2"
      }
    },
    {
      "cell_type": "code",
      "execution_count": null,
      "metadata": {
        "id": "HguOc4I8UHzl"
      },
      "outputs": [],
      "source": [
        "import tensorflow as tf\n",
        "from tensorflow.keras import optimizers\n",
        "from tensorflow.keras.layers import Flatten, Dense, Conv3D, MaxPooling3D, Dropout, LSTM, Input, Concatenate, BatchNormalization\n",
        "from tensorflow.keras.callbacks import Callback, EarlyStopping, ReduceLROnPlateau\n",
        "from keras.models import Model\n",
        "from keras.regularizers import l2\n",
        "import numpy as np"
      ]
    },
    {
      "cell_type": "code",
      "source": [
        "# Input shapes\n",
        "CNN_in = Input(shape=(30, 224, 224, 3))\n",
        "RNN_in = Input(shape=(30, 123))\n",
        "\n",
        "CNN1 = Conv3D(filters=32, kernel_size=(5,5,5), activation='elu', padding='same',kernel_initializer='he_normal', name='conv2d_1')(CNN_in)\n",
        "B1 = BatchNormalization(name='batchnorm_1')(CNN1)\n",
        "MP1 = MaxPooling3D(pool_size=(2,2,2), name='maxpool2d_1')(B1)\n",
        "D1 = Dropout(0.2)(MP1)\n",
        "CNN2 = Conv3D(filters=64 ,kernel_size=(3,3,3),activation='elu',padding='same',kernel_initializer='he_normal', name='conv2d_2')(D1)\n",
        "B2 = BatchNormalization(name='batchnorm_2')(CNN2)\n",
        "MP2 = MaxPooling3D(pool_size=(2,2,2), name='maxpool2d_2')(B2)\n",
        "D2 = Dropout(0.4)(MP2)\n",
        "CNN3 = Conv3D(filters=128, kernel_size=(3,3,3),activation='elu',padding='same',kernel_initializer='he_normal', name='conv2d_3')(D2)\n",
        "B3 = BatchNormalization(name='batchnorm_3')(CNN3)\n",
        "MP3 = MaxPooling3D(pool_size=(2,2,2), name='maxpool2d_3')(B3)\n",
        "D3 = Dropout(0.2)(MP3)\n",
        "CNN4 = Conv3D(filters=128,kernel_size=(3,3,3),activation='elu',padding='same',kernel_initializer='he_normal', name='conv2d_4')(D3)\n",
        "B4 = BatchNormalization(name='batchnorm_4')(CNN4)\n",
        "MP4 = MaxPooling3D(pool_size=(2,2,2), name='maxpool2d_4')(B4)\n",
        "D4 = Dropout(0.4)(MP4)\n",
        "\n",
        "# LSTM\n",
        "RNN1 = LSTM(units=64, return_sequences=True)(RNN_in)\n",
        "RNN2 = LSTM(units=32, return_sequences=True, dropout = 0.3)(RNN1)\n",
        "\n",
        "# Flatten\n",
        "F1 = Flatten()(D4)\n",
        "F2 = Flatten()(RNN2)\n",
        "\n",
        "# Concatenate\n",
        "combined = Concatenate()([F1, F2])\n",
        "\n",
        "# Dense layers\n",
        "DS1 = Dense(32, activation='relu', kernel_initializer='he_normal')(combined)\n",
        "output = Dense(10, activation='softmax')(DS1)\n",
        "\n",
        "# Create the model\n",
        "model = Model(inputs=[CNN_in, RNN_in], outputs=output)\n",
        "\n",
        "model.compile(loss='categorical_crossentropy', optimizer='adam', metrics=['accuracy'])"
      ],
      "metadata": {
        "id": "DrM31Tjjn6Sv"
      },
      "execution_count": null,
      "outputs": []
    },
    {
      "cell_type": "code",
      "source": [
        "model.summary()"
      ],
      "metadata": {
        "colab": {
          "base_uri": "https://localhost:8080/"
        },
        "id": "pSwSOu9webBR",
        "outputId": "0745f430-ccae-4aeb-f17b-9ae0278b703e"
      },
      "execution_count": null,
      "outputs": [
        {
          "output_type": "stream",
          "name": "stdout",
          "text": [
            "Model: \"model\"\n",
            "__________________________________________________________________________________________________\n",
            " Layer (type)                Output Shape                 Param #   Connected to                  \n",
            "==================================================================================================\n",
            " input_1 (InputLayer)        [(None, 30, 224, 224, 3)]    0         []                            \n",
            "                                                                                                  \n",
            " conv2d_1 (Conv3D)           (None, 30, 224, 224, 32)     12032     ['input_1[0][0]']             \n",
            "                                                                                                  \n",
            " batchnorm_1 (BatchNormaliz  (None, 30, 224, 224, 32)     128       ['conv2d_1[0][0]']            \n",
            " ation)                                                                                           \n",
            "                                                                                                  \n",
            " maxpool2d_1 (MaxPooling3D)  (None, 15, 112, 112, 32)     0         ['batchnorm_1[0][0]']         \n",
            "                                                                                                  \n",
            " dropout (Dropout)           (None, 15, 112, 112, 32)     0         ['maxpool2d_1[0][0]']         \n",
            "                                                                                                  \n",
            " conv2d_2 (Conv3D)           (None, 15, 112, 112, 64)     55360     ['dropout[0][0]']             \n",
            "                                                                                                  \n",
            " batchnorm_2 (BatchNormaliz  (None, 15, 112, 112, 64)     256       ['conv2d_2[0][0]']            \n",
            " ation)                                                                                           \n",
            "                                                                                                  \n",
            " maxpool2d_2 (MaxPooling3D)  (None, 7, 56, 56, 64)        0         ['batchnorm_2[0][0]']         \n",
            "                                                                                                  \n",
            " dropout_1 (Dropout)         (None, 7, 56, 56, 64)        0         ['maxpool2d_2[0][0]']         \n",
            "                                                                                                  \n",
            " conv2d_3 (Conv3D)           (None, 7, 56, 56, 128)       221312    ['dropout_1[0][0]']           \n",
            "                                                                                                  \n",
            " batchnorm_3 (BatchNormaliz  (None, 7, 56, 56, 128)       512       ['conv2d_3[0][0]']            \n",
            " ation)                                                                                           \n",
            "                                                                                                  \n",
            " maxpool2d_3 (MaxPooling3D)  (None, 3, 28, 28, 128)       0         ['batchnorm_3[0][0]']         \n",
            "                                                                                                  \n",
            " dropout_2 (Dropout)         (None, 3, 28, 28, 128)       0         ['maxpool2d_3[0][0]']         \n",
            "                                                                                                  \n",
            " conv2d_4 (Conv3D)           (None, 3, 28, 28, 128)       442496    ['dropout_2[0][0]']           \n",
            "                                                                                                  \n",
            " batchnorm_4 (BatchNormaliz  (None, 3, 28, 28, 128)       512       ['conv2d_4[0][0]']            \n",
            " ation)                                                                                           \n",
            "                                                                                                  \n",
            " input_2 (InputLayer)        [(None, 30, 123)]            0         []                            \n",
            "                                                                                                  \n",
            " maxpool2d_4 (MaxPooling3D)  (None, 1, 14, 14, 128)       0         ['batchnorm_4[0][0]']         \n",
            "                                                                                                  \n",
            " lstm (LSTM)                 (None, 30, 64)               48128     ['input_2[0][0]']             \n",
            "                                                                                                  \n",
            " dropout_3 (Dropout)         (None, 1, 14, 14, 128)       0         ['maxpool2d_4[0][0]']         \n",
            "                                                                                                  \n",
            " lstm_1 (LSTM)               (None, 30, 32)               12416     ['lstm[0][0]']                \n",
            "                                                                                                  \n",
            " flatten (Flatten)           (None, 25088)                0         ['dropout_3[0][0]']           \n",
            "                                                                                                  \n",
            " flatten_1 (Flatten)         (None, 960)                  0         ['lstm_1[0][0]']              \n",
            "                                                                                                  \n",
            " concatenate (Concatenate)   (None, 26048)                0         ['flatten[0][0]',             \n",
            "                                                                     'flatten_1[0][0]']           \n",
            "                                                                                                  \n",
            " dense (Dense)               (None, 32)                   833568    ['concatenate[0][0]']         \n",
            "                                                                                                  \n",
            " dense_1 (Dense)             (None, 10)                   330       ['dense[0][0]']               \n",
            "                                                                                                  \n",
            "==================================================================================================\n",
            "Total params: 1627050 (6.21 MB)\n",
            "Trainable params: 1626346 (6.20 MB)\n",
            "Non-trainable params: 704 (2.75 KB)\n",
            "__________________________________________________________________________________________________\n"
          ]
        }
      ]
    },
    {
      "cell_type": "markdown",
      "source": [
        "## Load Npz"
      ],
      "metadata": {
        "id": "vG_tfIr77Emu"
      }
    },
    {
      "cell_type": "code",
      "source": [
        "import numpy as np\n",
        "\n",
        "# Load the keypoints data from the npz file\n",
        "data1 = np.load('/content/drive/MyDrive/lsa64/Npzs/keypoints_data_i2_j4_k3.npz')\n",
        "\n",
        "labels = data1['labels']\n",
        "keypoints = data1['keypoints']\n",
        "\n",
        "\n",
        "print(\"Label:\")\n",
        "print(type(labels.item()))\n",
        "\n",
        "print(\"Keypoints:\")\n",
        "print(keypoints.shape)"
      ],
      "metadata": {
        "id": "SSg2lpm32pbd",
        "colab": {
          "base_uri": "https://localhost:8080/"
        },
        "outputId": "3b31dda4-03cf-4031-d103-26f2fb302ebd"
      },
      "execution_count": null,
      "outputs": [
        {
          "output_type": "stream",
          "name": "stdout",
          "text": [
            "Label:\n",
            "<class 'str'>\n",
            "Keypoints:\n",
            "(30, 41, 3)\n"
          ]
        }
      ]
    },
    {
      "cell_type": "code",
      "source": [
        "import numpy as np\n",
        "\n",
        "# Load the keypoints data from the npz file\n",
        "data1 = np.load('/content/drive/MyDrive/lsa64/Frame_Pixels_Npzs/pixels_data_i10_j10_k1.npz')\n",
        "\n",
        "labels = data1['labels']\n",
        "pixels = data1['pixels']\n",
        "\n",
        "\n",
        "print(\"Label:\")\n",
        "print(type(labels.item()))\n",
        "\n",
        "print(\"pixels:\")\n",
        "print(pixels.shape)"
      ],
      "metadata": {
        "colab": {
          "base_uri": "https://localhost:8080/"
        },
        "id": "mQg_0S0DfK48",
        "outputId": "1cc204f5-f66e-4041-b87d-5e761f871e71"
      },
      "execution_count": null,
      "outputs": [
        {
          "output_type": "stream",
          "name": "stdout",
          "text": [
            "Label:\n",
            "<class 'str'>\n",
            "pixels:\n",
            "(17, 224, 224, 3)\n"
          ]
        }
      ]
    },
    {
      "cell_type": "markdown",
      "source": [
        "## Padding pixels and key points"
      ],
      "metadata": {
        "id": "o_jj-PFW7HGZ"
      }
    },
    {
      "cell_type": "code",
      "source": [
        "import numpy as np\n",
        "\n",
        "def pad_or_truncate_keypoints(keypoints, target_frames=30):\n",
        "    current_frames = len(keypoints)\n",
        "\n",
        "    if current_frames < target_frames:\n",
        "      # If there are fewer frames, pad the keypoints with the last frame\n",
        "      padding = target_frames - current_frames\n",
        "      pad_value = np.expand_dims(keypoints[-1], axis=0)  # Take the last frame to pad\n",
        "      pad_values = np.tile(pad_value, (padding, 1, 1))\n",
        "      keypoints = np.concatenate((keypoints, pad_values), axis=0)\n",
        "    elif current_frames > target_frames:\n",
        "        excess_frames = current_frames - target_frames\n",
        "        front_truncate = excess_frames // 2\n",
        "        back_truncate = excess_frames - front_truncate\n",
        "        keypoints = keypoints[front_truncate:-back_truncate]\n",
        "    return keypoints"
      ],
      "metadata": {
        "id": "zlw1kudAcaNl"
      },
      "execution_count": null,
      "outputs": []
    },
    {
      "cell_type": "code",
      "source": [
        "def pad_or_truncate_pixels(pixels, target_frames=30):\n",
        "    current_frames, frame_height, frame_width, _ = pixels.shape\n",
        "\n",
        "    if current_frames < target_frames:\n",
        "        # If there are fewer frames, pad the pixels with the last frame\n",
        "        padding = target_frames - current_frames\n",
        "        pad_frame = pixels[-1:]  # Use the last frame for padding\n",
        "        pixels = np.concatenate([pixels] + [pad_frame] * padding)\n",
        "    elif current_frames > target_frames:\n",
        "        # If there are more frames, truncate from the back\n",
        "        pixels = pixels[-target_frames:]\n",
        "\n",
        "    return pixels"
      ],
      "metadata": {
        "id": "1k6td65Te846"
      },
      "execution_count": null,
      "outputs": []
    },
    {
      "cell_type": "markdown",
      "source": [
        "## Early Stopping"
      ],
      "metadata": {
        "id": "op-YNFaklc6U"
      }
    },
    {
      "cell_type": "code",
      "source": [
        "early_stopping = EarlyStopping(monitor='val_accuracy',min_delta=0.00005,patience=7,verbose=1,\n",
        "    restore_best_weights=True)\n",
        "lr_scheduler = ReduceLROnPlateau(monitor='val_accuracy',factor=0.5,patience=4,min_lr=1e-7,verbose=1)\n",
        "\n",
        "callbacks = [early_stopping,lr_scheduler]"
      ],
      "metadata": {
        "id": "xKQShVZ8d1pk"
      },
      "execution_count": null,
      "outputs": []
    },
    {
      "cell_type": "code",
      "source": [
        "keypoints_folder = '/content/drive/MyDrive/lsa64/Npzs'\n",
        "pixels_folder = '/content/drive/MyDrive/lsa64/Frame_Pixels_Npzs'\n",
        "batch_size = 3"
      ],
      "metadata": {
        "id": "grrzLv_YJ-6d"
      },
      "execution_count": null,
      "outputs": []
    },
    {
      "cell_type": "code",
      "source": [
        "def load_pixel_data(label, person, selected_videos):\n",
        "    pixel_data = []\n",
        "    labels_data = []\n",
        "    for k in selected_videos:\n",
        "        filename = f'pixels_data_i{label}_j{person}_k{k}.npz'\n",
        "        file_path = os.path.join(pixels_folder, filename)\n",
        "        data = np.load(file_path)\n",
        "        label = int(data['labels'])\n",
        "        labels_data.append(label)\n",
        "        pixel_data.append(pad_or_truncate_pixels(data['pixels']))  # Adjust this based on your data structure\n",
        "    return np.stack(pixel_data, axis=0), labels_data"
      ],
      "metadata": {
        "id": "O3CQYVleML9X"
      },
      "execution_count": null,
      "outputs": []
    },
    {
      "cell_type": "code",
      "source": [
        "def load_keypoints_data(label, person, selected_videos):\n",
        "    keypoints_data = []\n",
        "    for k in selected_videos:\n",
        "        filename = f'keypoints_data_i{label}_j{person}_k{k}.npz'\n",
        "        file_path = os.path.join(keypoints_folder, filename)\n",
        "        data = np.load(file_path)\n",
        "        keypoints_data.append(pad_or_truncate_keypoints(data['keypoints']).reshape(30,123))\n",
        "    return np.stack(keypoints_data,  axis=0)"
      ],
      "metadata": {
        "id": "PZKrHqN1J_Yr"
      },
      "execution_count": null,
      "outputs": []
    },
    {
      "cell_type": "code",
      "source": [
        "from tensorflow.keras.utils import to_categorical\n",
        "import numpy as np\n",
        "\n",
        "def train_batch_generator():\n",
        "    num_labels = 10\n",
        "    num_persons = 10\n",
        "    selected_videos = [1, 2, 3]  # Specify the selected videos (k values)\n",
        "    batch_size = 3\n",
        "\n",
        "    while True:\n",
        "        for label in range(1, num_labels+1):\n",
        "            for person in range(1, num_persons + 1):\n",
        "                keypoints_batch = load_keypoints_data(label, person, selected_videos)\n",
        "                pixel_batch, labels_batch = load_pixel_data(label, person, selected_videos)\n",
        "                num_videos = len(selected_videos)\n",
        "                num_batches = num_videos // batch_size\n",
        "\n",
        "                for batch_num in range(num_batches):\n",
        "                    start = batch_num * batch_size\n",
        "                    end = (batch_num + 1) * batch_size\n",
        "                    labels_array = np.array(labels_batch) - 1\n",
        "                    one_hot_labels = to_categorical(labels_array, num_labels)\n",
        "                    yield (\n",
        "                        pixel_batch[start:end],\n",
        "                        keypoints_batch[start:end]\n",
        "                    ), one_hot_labels[start:end]\n",
        "                    del pixel_batch, keypoints_batch, one_hot_labels"
      ],
      "metadata": {
        "id": "VIGEHS3GzUxc"
      },
      "execution_count": null,
      "outputs": []
    },
    {
      "cell_type": "code",
      "source": [
        "def val_batch_generator():\n",
        "    num_labels = 10\n",
        "    num_persons = 10\n",
        "    selected_videos = [4]  # Specify the selected videos (k values)\n",
        "    batch_size = 1\n",
        "\n",
        "    while True:\n",
        "        for label in range(1, num_labels+1):\n",
        "            for person in range(1, num_persons + 1):\n",
        "                keypoints_batch = load_keypoints_data(label, person, selected_videos)\n",
        "                pixel_batch, labels_batch = load_pixel_data(label, person, selected_videos)\n",
        "                num_videos = len(selected_videos)\n",
        "                num_batches = num_videos // batch_size\n",
        "\n",
        "                for batch_num in range(num_batches):\n",
        "                    start = batch_num * batch_size\n",
        "                    end = (batch_num + 1) * batch_size\n",
        "                    labels_array = np.array(labels_batch) - 1\n",
        "                    one_hot_labels = to_categorical(labels_array, num_labels)\n",
        "                    yield (\n",
        "                        pixel_batch[start:end],\n",
        "                        keypoints_batch[start:end]\n",
        "                    ), one_hot_labels[start:end]\n",
        "                    del pixel_batch, keypoints_batch, one_hot_labels"
      ],
      "metadata": {
        "id": "OCOKsYRBpoGq"
      },
      "execution_count": null,
      "outputs": []
    },
    {
      "cell_type": "code",
      "source": [
        "import os\n",
        "train_generator = train_batch_generator()\n",
        "val_generator = val_batch_generator()\n",
        "\n",
        "history = model.fit(train_generator, batch_size = 3,steps_per_epoch = 101, epochs = 20, validation_data = val_generator\n",
        "                    ,validation_steps = 101, validation_batch_size=1, callbacks=callbacks)"
      ],
      "metadata": {
        "colab": {
          "base_uri": "https://localhost:8080/"
        },
        "id": "XPeRhIy5-iEn",
        "outputId": "f71d3142-6fc7-46ef-e8ff-56d84636233f"
      },
      "execution_count": null,
      "outputs": [
        {
          "output_type": "stream",
          "name": "stdout",
          "text": [
            "Epoch 1/20\n",
            "101/101 [==============================] - 280s 3s/step - loss: 12.3745 - accuracy: 0.2178 - val_loss: 2.9221 - val_accuracy: 0.1089 - lr: 0.0010\n",
            "Epoch 2/20\n",
            "101/101 [==============================] - 33s 323ms/step - loss: 2.3115 - accuracy: 0.0000e+00 - val_loss: 2.3245 - val_accuracy: 0.0990 - lr: 0.0010\n",
            "Epoch 3/20\n",
            "101/101 [==============================] - 33s 328ms/step - loss: 2.3114 - accuracy: 0.0000e+00 - val_loss: 2.3024 - val_accuracy: 0.0990 - lr: 0.0010\n",
            "Epoch 4/20\n",
            "101/101 [==============================] - 34s 332ms/step - loss: 2.3114 - accuracy: 0.0000e+00 - val_loss: 2.3028 - val_accuracy: 0.0990 - lr: 0.0010\n",
            "Epoch 5/20\n",
            "101/101 [==============================] - ETA: 0s - loss: 2.3114 - accuracy: 0.0000e+00\n",
            "Epoch 5: ReduceLROnPlateau reducing learning rate to 0.0005000000237487257.\n",
            "101/101 [==============================] - 34s 336ms/step - loss: 2.3114 - accuracy: 0.0000e+00 - val_loss: 2.3017 - val_accuracy: 0.0891 - lr: 0.0010\n",
            "Epoch 6/20\n",
            "101/101 [==============================] - 34s 339ms/step - loss: 2.3071 - accuracy: 0.0198 - val_loss: 2.3024 - val_accuracy: 0.0891 - lr: 5.0000e-04\n",
            "Epoch 7/20\n",
            "101/101 [==============================] - 35s 351ms/step - loss: 2.3071 - accuracy: 0.0198 - val_loss: 2.3028 - val_accuracy: 0.0891 - lr: 5.0000e-04\n",
            "Epoch 8/20\n",
            "101/101 [==============================] - ETA: 0s - loss: 2.3070 - accuracy: 0.0198Restoring model weights from the end of the best epoch: 1.\n",
            "101/101 [==============================] - 35s 352ms/step - loss: 2.3070 - accuracy: 0.0198 - val_loss: 2.3027 - val_accuracy: 0.0891 - lr: 5.0000e-04\n",
            "Epoch 8: early stopping\n"
          ]
        }
      ]
    },
    {
      "cell_type": "code",
      "source": [
        "def test_batch_generator():\n",
        "    num_labels = 10\n",
        "    num_persons = 10\n",
        "    selected_videos = [5]  # Specify the selected videos (k values)\n",
        "    batch_size = 1\n",
        "\n",
        "    while True:\n",
        "        for label in range(1, num_labels + 1):\n",
        "            for person in range(1, num_persons + 1):\n",
        "                keypoints_batch = load_keypoints_data(label, person, selected_videos)\n",
        "                pixel_batch, labels_batch = load_pixel_data(label, person, selected_videos)\n",
        "                num_videos = len(selected_videos)\n",
        "                num_batches = num_videos // batch_size\n",
        "\n",
        "                for batch_num in range(num_batches):\n",
        "                    start = batch_num * batch_size\n",
        "                    end = (batch_num + 1) * batch_size\n",
        "                    labels_array = np.array(labels_batch) - 1\n",
        "                    one_hot_labels = to_categorical(labels_array, num_labels)\n",
        "                    yield (\n",
        "                        pixel_batch[start:end],\n",
        "                        keypoints_batch[start:end]\n",
        "                    ), one_hot_labels[start:end]\n",
        "                    del pixel_batch, keypoints_batch, one_hot_labels"
      ],
      "metadata": {
        "id": "lOX7mcPjqY3M"
      },
      "execution_count": null,
      "outputs": []
    },
    {
      "cell_type": "code",
      "source": [
        "test_generator = test_batch_generator()\n",
        "test_results = model.evaluate(test_generator, steps=101)"
      ],
      "metadata": {
        "colab": {
          "base_uri": "https://localhost:8080/"
        },
        "id": "ptwY57cGwCJ1",
        "outputId": "bccb6dc2-75c2-4777-c97a-cc3382bf84be"
      },
      "execution_count": null,
      "outputs": [
        {
          "output_type": "stream",
          "name": "stdout",
          "text": [
            "101/101 [==============================] - 58s 578ms/step - loss: 2.9377 - accuracy: 0.1089\n"
          ]
        }
      ]
    },
    {
      "cell_type": "code",
      "source": [
        "test_results"
      ],
      "metadata": {
        "colab": {
          "base_uri": "https://localhost:8080/"
        },
        "id": "Tf2SqiLBwPPs",
        "outputId": "40834396-ecd0-4e43-877d-4b95ed444ac6"
      },
      "execution_count": null,
      "outputs": [
        {
          "output_type": "execute_result",
          "data": {
            "text/plain": [
              "[5.994515895843506, 0.03980099409818649]"
            ]
          },
          "metadata": {},
          "execution_count": 21
        }
      ]
    }
  ]
}